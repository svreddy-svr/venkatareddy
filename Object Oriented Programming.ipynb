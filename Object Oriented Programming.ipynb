{
 "cells": [
  {
   "cell_type": "markdown",
   "id": "32216ba4",
   "metadata": {},
   "source": [
    "### Object Oriented Programming( OOP)\n",
    "\n",
    "1. Objected Oriented Programming allows you to structure your code using classes and objects for better organization of code reusability"
   ]
  },
  {
   "cell_type": "markdown",
   "id": "a166e404",
   "metadata": {},
   "source": [
    "#### Key Concepts\n",
    "\n",
    "- Class\n",
    "- Object\n",
    "- Inheritance\n",
    "- Polymorphiosm \n",
    "- Encapsulation\n",
    "- Abstraction"
   ]
  },
  {
   "cell_type": "markdown",
   "id": "6d6d3eca",
   "metadata": {},
   "source": [
    "## class\n",
    "\n",
    "- A class is like an Object Constructor, a blue print for creating an object\n",
    "- Class is written with **Class** keyword"
   ]
  },
  {
   "cell_type": "code",
   "execution_count": 2,
   "id": "53723a4c",
   "metadata": {},
   "outputs": [],
   "source": [
    "#creating a class\n",
    "\n",
    "class My_class:\n",
    "    x = 5"
   ]
  },
  {
   "cell_type": "code",
   "execution_count": 3,
   "id": "cdda1325",
   "metadata": {},
   "outputs": [],
   "source": [
    "class My_data:\n",
    "    name = 'SatyaKumar'\n",
    "    age = 34"
   ]
  },
  {
   "cell_type": "markdown",
   "id": "23553557",
   "metadata": {},
   "source": [
    "## object\n",
    "- Almost everything in python is an object with its properties and methods\n"
   ]
  },
  {
   "cell_type": "code",
   "execution_count": 4,
   "id": "a6bfe020",
   "metadata": {},
   "outputs": [],
   "source": [
    "##create an object"
   ]
  },
  {
   "cell_type": "code",
   "execution_count": 6,
   "id": "ef41bf6d",
   "metadata": {},
   "outputs": [],
   "source": [
    "K = My_data() # K is an object"
   ]
  },
  {
   "cell_type": "code",
   "execution_count": 7,
   "id": "823f941c",
   "metadata": {},
   "outputs": [
    {
     "data": {
      "text/plain": [
       "'SatyaKumar'"
      ]
     },
     "execution_count": 7,
     "metadata": {},
     "output_type": "execute_result"
    }
   ],
   "source": [
    "K.name"
   ]
  },
  {
   "cell_type": "code",
   "execution_count": 8,
   "id": "b0fe9456",
   "metadata": {},
   "outputs": [
    {
     "data": {
      "text/plain": [
       "34"
      ]
     },
     "execution_count": 8,
     "metadata": {},
     "output_type": "execute_result"
    }
   ],
   "source": [
    "K.age"
   ]
  },
  {
   "cell_type": "code",
   "execution_count": 9,
   "id": "32d04706",
   "metadata": {},
   "outputs": [],
   "source": [
    "M = My_class()"
   ]
  },
  {
   "cell_type": "code",
   "execution_count": 10,
   "id": "18555f86",
   "metadata": {},
   "outputs": [
    {
     "data": {
      "text/plain": [
       "5"
      ]
     },
     "execution_count": 10,
     "metadata": {},
     "output_type": "execute_result"
    }
   ],
   "source": [
    "M.x"
   ]
  },
  {
   "cell_type": "raw",
   "id": "be7e26c8",
   "metadata": {},
   "source": [
    "__init__( ):"
   ]
  },
  {
   "cell_type": "code",
   "execution_count": 11,
   "id": "8be7c961",
   "metadata": {},
   "outputs": [],
   "source": [
    "class Person:\n",
    "    def __init__(self,name, age):\n",
    "        self.name = name\n",
    "        self.age = age"
   ]
  },
  {
   "cell_type": "raw",
   "id": "383eeab8",
   "metadata": {},
   "source": [
    "The __init__() Function : All classes have a function called __init__( ), which is always executed when the class is being initiated . __init__() function is used assign values values to the object parameters "
   ]
  },
  {
   "cell_type": "code",
   "execution_count": 12,
   "id": "3292eba9",
   "metadata": {},
   "outputs": [],
   "source": [
    "P1 = Person('SatyaKumar',34)"
   ]
  },
  {
   "cell_type": "code",
   "execution_count": 13,
   "id": "9e0977d7",
   "metadata": {},
   "outputs": [
    {
     "data": {
      "text/plain": [
       "'SatyaKumar'"
      ]
     },
     "execution_count": 13,
     "metadata": {},
     "output_type": "execute_result"
    }
   ],
   "source": [
    "P1.name"
   ]
  },
  {
   "cell_type": "code",
   "execution_count": 14,
   "id": "304b903f",
   "metadata": {},
   "outputs": [
    {
     "data": {
      "text/plain": [
       "34"
      ]
     },
     "execution_count": 14,
     "metadata": {},
     "output_type": "execute_result"
    }
   ],
   "source": [
    "P1.age"
   ]
  },
  {
   "cell_type": "code",
   "execution_count": 15,
   "id": "4cf68734",
   "metadata": {},
   "outputs": [],
   "source": [
    "P2 = Person('Raj',24)"
   ]
  },
  {
   "cell_type": "code",
   "execution_count": 16,
   "id": "edc6761d",
   "metadata": {},
   "outputs": [
    {
     "data": {
      "text/plain": [
       "'Raj'"
      ]
     },
     "execution_count": 16,
     "metadata": {},
     "output_type": "execute_result"
    }
   ],
   "source": [
    "P2.name"
   ]
  },
  {
   "cell_type": "code",
   "execution_count": 17,
   "id": "61e6d286",
   "metadata": {},
   "outputs": [
    {
     "data": {
      "text/plain": [
       "24"
      ]
     },
     "execution_count": 17,
     "metadata": {},
     "output_type": "execute_result"
    }
   ],
   "source": [
    "P2.age"
   ]
  },
  {
   "cell_type": "code",
   "execution_count": 18,
   "id": "977b7ac3",
   "metadata": {},
   "outputs": [],
   "source": [
    "## Self parameter refers to current instance of a class "
   ]
  },
  {
   "cell_type": "code",
   "execution_count": 19,
   "id": "2ff7e434",
   "metadata": {},
   "outputs": [],
   "source": [
    "class Person:\n",
    "    def __init__(self,name, age):\n",
    "        self.name = name\n",
    "        self.age = age"
   ]
  },
  {
   "cell_type": "markdown",
   "id": "3801aec4",
   "metadata": {},
   "source": [
    "### Object Methods"
   ]
  },
  {
   "cell_type": "code",
   "execution_count": 20,
   "id": "e7e45376",
   "metadata": {},
   "outputs": [],
   "source": [
    "P1 = Person('Steve',23)"
   ]
  },
  {
   "cell_type": "code",
   "execution_count": 21,
   "id": "79a34d46",
   "metadata": {},
   "outputs": [
    {
     "data": {
      "text/plain": [
       "'Steve'"
      ]
     },
     "execution_count": 21,
     "metadata": {},
     "output_type": "execute_result"
    }
   ],
   "source": [
    "P1.name"
   ]
  },
  {
   "cell_type": "code",
   "execution_count": 4,
   "id": "0b2b3e51",
   "metadata": {},
   "outputs": [],
   "source": [
    "class Person:\n",
    "    def __init__(self,name, age):\n",
    "        self.name = name\n",
    "        self.age = age\n",
    "    def Greetings(self):\n",
    "        print('Hi all , Greetings of the Day!!!!')"
   ]
  },
  {
   "cell_type": "code",
   "execution_count": 5,
   "id": "b8a44f74",
   "metadata": {},
   "outputs": [],
   "source": [
    "# a function that belongs to a class is called object method"
   ]
  },
  {
   "cell_type": "code",
   "execution_count": 6,
   "id": "6d6073dd",
   "metadata": {},
   "outputs": [],
   "source": [
    "P1 = Person('Steve',23)"
   ]
  },
  {
   "cell_type": "code",
   "execution_count": 7,
   "id": "df0604b1",
   "metadata": {},
   "outputs": [
    {
     "name": "stdout",
     "output_type": "stream",
     "text": [
      "Hi all , Greetings of the Day!!!!\n"
     ]
    }
   ],
   "source": [
    "P1.Greetings()"
   ]
  },
  {
   "cell_type": "markdown",
   "id": "d0de5eca",
   "metadata": {},
   "source": [
    "### Modifying Object Properties"
   ]
  },
  {
   "cell_type": "code",
   "execution_count": 8,
   "id": "1e333db9",
   "metadata": {},
   "outputs": [
    {
     "data": {
      "text/plain": [
       "'Steve'"
      ]
     },
     "execution_count": 8,
     "metadata": {},
     "output_type": "execute_result"
    }
   ],
   "source": [
    "P1.name"
   ]
  },
  {
   "cell_type": "code",
   "execution_count": 9,
   "id": "9ec26310",
   "metadata": {},
   "outputs": [
    {
     "data": {
      "text/plain": [
       "23"
      ]
     },
     "execution_count": 9,
     "metadata": {},
     "output_type": "execute_result"
    }
   ],
   "source": [
    "P1.age"
   ]
  },
  {
   "cell_type": "code",
   "execution_count": 10,
   "id": "7991b429",
   "metadata": {},
   "outputs": [],
   "source": [
    "P1.age = 34"
   ]
  },
  {
   "cell_type": "code",
   "execution_count": 11,
   "id": "076619a1",
   "metadata": {},
   "outputs": [
    {
     "data": {
      "text/plain": [
       "34"
      ]
     },
     "execution_count": 11,
     "metadata": {},
     "output_type": "execute_result"
    }
   ],
   "source": [
    "P1.age"
   ]
  },
  {
   "cell_type": "code",
   "execution_count": 12,
   "id": "86711b6a",
   "metadata": {},
   "outputs": [],
   "source": [
    "P1.name = 'SatyaKumar'"
   ]
  },
  {
   "cell_type": "code",
   "execution_count": 13,
   "id": "4fc544a1",
   "metadata": {},
   "outputs": [
    {
     "data": {
      "text/plain": [
       "'SatyaKumar'"
      ]
     },
     "execution_count": 13,
     "metadata": {},
     "output_type": "execute_result"
    }
   ],
   "source": [
    "P1.name"
   ]
  },
  {
   "cell_type": "markdown",
   "id": "b665174b",
   "metadata": {},
   "source": [
    "#### deleting Object Properties"
   ]
  },
  {
   "cell_type": "code",
   "execution_count": 14,
   "id": "fc54e16c",
   "metadata": {},
   "outputs": [
    {
     "data": {
      "text/plain": [
       "'SatyaKumar'"
      ]
     },
     "execution_count": 14,
     "metadata": {},
     "output_type": "execute_result"
    }
   ],
   "source": [
    "P1.name"
   ]
  },
  {
   "cell_type": "code",
   "execution_count": 15,
   "id": "9183a25c",
   "metadata": {},
   "outputs": [
    {
     "data": {
      "text/plain": [
       "34"
      ]
     },
     "execution_count": 15,
     "metadata": {},
     "output_type": "execute_result"
    }
   ],
   "source": [
    "P1.age"
   ]
  },
  {
   "cell_type": "code",
   "execution_count": 16,
   "id": "9ada4542",
   "metadata": {},
   "outputs": [],
   "source": [
    "del P1.age"
   ]
  },
  {
   "cell_type": "code",
   "execution_count": null,
   "id": "29da1880",
   "metadata": {},
   "outputs": [],
   "source": []
  },
  {
   "cell_type": "code",
   "execution_count": null,
   "id": "03062fbd",
   "metadata": {},
   "outputs": [],
   "source": []
  },
  {
   "cell_type": "code",
   "execution_count": null,
   "id": "38887aca",
   "metadata": {},
   "outputs": [],
   "source": []
  },
  {
   "cell_type": "code",
   "execution_count": null,
   "id": "fa02a3a0",
   "metadata": {},
   "outputs": [],
   "source": []
  },
  {
   "cell_type": "code",
   "execution_count": null,
   "id": "180597a2",
   "metadata": {},
   "outputs": [],
   "source": []
  },
  {
   "cell_type": "code",
   "execution_count": null,
   "id": "d6e3b0c3",
   "metadata": {},
   "outputs": [],
   "source": []
  },
  {
   "cell_type": "code",
   "execution_count": null,
   "id": "999d8099",
   "metadata": {},
   "outputs": [],
   "source": []
  }
 ],
 "metadata": {
  "kernelspec": {
   "display_name": "Python 3 (ipykernel)",
   "language": "python",
   "name": "python3"
  },
  "language_info": {
   "codemirror_mode": {
    "name": "ipython",
    "version": 3
   },
   "file_extension": ".py",
   "mimetype": "text/x-python",
   "name": "python",
   "nbconvert_exporter": "python",
   "pygments_lexer": "ipython3",
   "version": "3.12.7"
  }
 },
 "nbformat": 4,
 "nbformat_minor": 5
}
