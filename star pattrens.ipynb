{
 "cells": [
  {
   "cell_type": "markdown",
   "id": "6863a58b-bcf0-48a3-96ec-104c88de52b7",
   "metadata": {},
   "source": [
    "## Star Patterns"
   ]
  },
  {
   "cell_type": "markdown",
   "id": "9586551a-c1bf-400f-b4bf-07116bc38441",
   "metadata": {},
   "source": [
    "### solid square"
   ]
  },
  {
   "cell_type": "code",
   "execution_count": 18,
   "id": "2f4dc633-45de-4f5a-833f-078719a03d6c",
   "metadata": {},
   "outputs": [
    {
     "name": "stdout",
     "output_type": "stream",
     "text": [
      "******\n",
      "******\n",
      "******\n",
      "******\n",
      "******\n",
      "******\n"
     ]
    }
   ],
   "source": [
    "n=6\n",
    "for i in range(n):\n",
    "    print('*'*n)\n",
    "    "
   ]
  },
  {
   "cell_type": "markdown",
   "id": "b8c62cdd-4a0f-486c-a063-c86eb1b0d520",
   "metadata": {},
   "source": [
    "##### Left aligned triangle"
   ]
  },
  {
   "cell_type": "code",
   "execution_count": 8,
   "id": "520ded81-9d7b-407a-986f-9f07d84fa1b0",
   "metadata": {},
   "outputs": [
    {
     "name": "stdout",
     "output_type": "stream",
     "text": [
      "\n",
      "*\n",
      "**\n",
      "***\n",
      "****\n",
      "*****\n",
      "******\n"
     ]
    }
   ],
   "source": [
    "n=6\n",
    "for i in range(n+1):\n",
    "      print('*'*i)"
   ]
  },
  {
   "cell_type": "markdown",
   "id": "cd77762e-6742-4e03-96a4-1c20431924fb",
   "metadata": {},
   "source": [
    "##### Right aligned triangle"
   ]
  },
  {
   "cell_type": "code",
   "execution_count": 48,
   "id": "b32b1981-9f77-43e6-88df-cf4baca901ae",
   "metadata": {},
   "outputs": [
    {
     "name": "stdout",
     "output_type": "stream",
     "text": [
      "      @\n",
      "     @@\n",
      "    @@@\n",
      "   @@@@\n",
      "  @@@@@\n",
      " @@@@@@\n",
      "@@@@@@@\n"
     ]
    }
   ],
   "source": [
    "n=7\n",
    "for i in range(1,n+1):\n",
    "    print(' '*(n-i)+'@'*i)"
   ]
  },
  {
   "cell_type": "markdown",
   "id": "c3ad3a6d-b29c-4727-a088-696069e90de8",
   "metadata": {},
   "source": [
    "### inverted left aliigned triangle"
   ]
  },
  {
   "cell_type": "code",
   "execution_count": 11,
   "id": "248232d9-a046-463c-9b9e-4f00b9886a31",
   "metadata": {},
   "outputs": [
    {
     "name": "stdout",
     "output_type": "stream",
     "text": [
      "######\n",
      "#####\n",
      "####\n",
      "###\n",
      "##\n",
      "#\n"
     ]
    }
   ],
   "source": [
    "n=6\n",
    "for i in range(n,0,-1):\n",
    "    print('#'*i)"
   ]
  },
  {
   "cell_type": "markdown",
   "id": "35fd047a-e1c2-4111-b6b8-9a3f12abc6ca",
   "metadata": {},
   "source": [
    "#### Pyramids"
   ]
  },
  {
   "cell_type": "code",
   "execution_count": 25,
   "id": "153a4e9c-781e-4def-948a-dad3dfed7a1b",
   "metadata": {},
   "outputs": [
    {
     "name": "stdout",
     "output_type": "stream",
     "text": [
      "      \n",
      "     * \n",
      "    * * \n",
      "   * * * \n",
      "  * * * * \n",
      " * * * * * \n"
     ]
    }
   ],
   "source": [
    "    n=6\n",
    "    for i in range(n):\n",
    "     print(' ' * (n -i)+'* '*i)\n"
   ]
  },
  {
   "cell_type": "markdown",
   "id": "a4736c80-99d5-49cf-ad52-763a3d915daf",
   "metadata": {},
   "source": [
    "#### inverted right aligned triangle"
   ]
  },
  {
   "cell_type": "code",
   "execution_count": 18,
   "id": "eb6e9b67-1493-4fff-b938-48fb66fc1eca",
   "metadata": {},
   "outputs": [
    {
     "name": "stdout",
     "output_type": "stream",
     "text": [
      "******\n",
      " *****\n",
      "  ****\n",
      "   ***\n",
      "    **\n",
      "     *\n"
     ]
    }
   ],
   "source": [
    "n=6\n",
    "for i in range(n,0,-1):\n",
    "    print(' '*(n-i)+'*'*i)"
   ]
  },
  {
   "cell_type": "markdown",
   "id": "8624d452-37ff-4c32-a42d-8fa1d9a5f068",
   "metadata": {},
   "source": [
    "#### inverted pyramid"
   ]
  },
  {
   "cell_type": "code",
   "execution_count": 27,
   "id": "3c681693-061a-4adc-81be-a091ac34d8a9",
   "metadata": {},
   "outputs": [
    {
     "name": "stdout",
     "output_type": "stream",
     "text": [
      "* * * * * * \n",
      " * * * * * \n",
      "  * * * * \n",
      "   * * * \n",
      "    * * \n",
      "     * \n"
     ]
    }
   ],
   "source": [
    "n=6\n",
    "for i in range(n,0,-1):\n",
    "    print(' ' * (n -i)+'* '*i)\n"
   ]
  },
  {
   "cell_type": "code",
   "execution_count": 40,
   "id": "222dad1b-1eb5-40a1-b0e0-63b13f6bbd83",
   "metadata": {},
   "outputs": [
    {
     "name": "stdout",
     "output_type": "stream",
     "text": [
      "   *\n",
      "  **\n",
      " ***\n",
      "****\n"
     ]
    }
   ],
   "source": [
    "n=4\n",
    "for i in range(1,n+1):\n",
    "    print(' '*(n-i)+'*'*i)"
   ]
  },
  {
   "cell_type": "markdown",
   "id": "a4118dec-fb1e-4347-8679-1f206efe2d0b",
   "metadata": {},
   "source": [
    "#### diamond pattren"
   ]
  },
  {
   "cell_type": "code",
   "execution_count": 41,
   "id": "1b8be6b1-6734-45e1-bff6-bfafc63d2b19",
   "metadata": {},
   "outputs": [
    {
     "name": "stdout",
     "output_type": "stream",
     "text": [
      "    \n",
      "   * \n",
      "  * * \n",
      " * * * \n",
      "* * * * \n",
      " * * * \n",
      "  * * \n",
      "   * \n"
     ]
    }
   ],
   "source": [
    "n=4\n",
    "for i in range(n):\n",
    "       print(' ' * (n -i)+'* '*i)\n",
    "for i in range(n,0,-1):\n",
    "       print(' ' * (n -i)+'* '*i)"
   ]
  },
  {
   "cell_type": "markdown",
   "id": "07aa5250-7d7b-40c1-a7df-c53a0a77dc51",
   "metadata": {},
   "source": [
    "#### hollow pyramid"
   ]
  },
  {
   "cell_type": "code",
   "execution_count": 92,
   "id": "a0997480-07c6-4568-bbd8-f7c8f24bfc0e",
   "metadata": {},
   "outputs": [
    {
     "name": "stdout",
     "output_type": "stream",
     "text": [
      "sssssssssss\n",
      " s       s\n",
      "  s     s\n",
      "   s   s\n",
      "    s s\n",
      "     s\n"
     ]
    }
   ],
   "source": [
    "n=6\n",
    "for i in range(n,0,-1):\n",
    "  for j in range(n-i):\n",
    "      print(' ',end='')\n",
    "  for k in range(2*i-1):\n",
    "     if k==0 or k==2*i-2 or i==n:\n",
    "         print('s',end='')\n",
    "     else:\n",
    "         print(' ',end='')\n",
    "  print()"
   ]
  },
  {
   "cell_type": "code",
   "execution_count": 89,
   "id": "12d4f8ea-a3a1-4ef7-bc09-508a1de8878b",
   "metadata": {},
   "outputs": [
    {
     "name": "stdout",
     "output_type": "stream",
     "text": [
      "* * * * "
     ]
    }
   ],
   "source": [
    "for i in range(4):\n",
    "   print('*',end=' ')"
   ]
  },
  {
   "cell_type": "code",
   "execution_count": 79,
   "id": "a5a3d050-33dc-427a-ac85-5eb4c4adc133",
   "metadata": {},
   "outputs": [
    {
     "name": "stdout",
     "output_type": "stream",
     "text": [
      "-1\n",
      "1\n",
      "3\n",
      "5\n",
      "7\n"
     ]
    }
   ],
   "source": [
    "for i in range(5):\n",
    "    print(2*i-1)"
   ]
  },
  {
   "cell_type": "code",
   "execution_count": 117,
   "id": "4f7e2b98-bcd7-4776-817e-29ea68f2c1e5",
   "metadata": {},
   "outputs": [
    {
     "name": "stdout",
     "output_type": "stream",
     "text": [
      "     s\n",
      "    s s\n",
      "   s   s\n",
      "  s     s\n",
      " s       s\n",
      "sssssssssss\n"
     ]
    }
   ],
   "source": [
    "n=6\n",
    "for i in range(1,n+1):\n",
    "  for j in range(n-i):\n",
    "      print(' ',end='')\n",
    "  for k in range(2*i-1):\n",
    "     if k==0 or k==2*i-2 or i==n:\n",
    "         print('s',end='')\n",
    "     else:\n",
    "         print(' ',end='')\n",
    "  print()"
   ]
  },
  {
   "cell_type": "code",
   "execution_count": 106,
   "id": "d3330cac-c1bb-4516-bfa8-662dcf4015a6",
   "metadata": {},
   "outputs": [
    {
     "name": "stdout",
     "output_type": "stream",
     "text": [
      "    s\n",
      "   s s\n",
      "  s   s\n",
      " s     s\n",
      "s       s\n",
      "s       s\n",
      " s     s\n",
      "  s   s\n",
      "   s s\n",
      "    s\n"
     ]
    }
   ],
   "source": [
    "n=5\n",
    "for i in range(1,n+1):\n",
    "  for j in range(n-i):\n",
    "      print(' ',end='')\n",
    "  for k in range(2*i-1):\n",
    "     if k==0 or k==2*i-2 :\n",
    "         print('s',end='')\n",
    "     else:\n",
    "         print(' ',end='')\n",
    "  print()\n",
    "    \n",
    "for i in range(n,0,-1):\n",
    "  for j in range(n-i):\n",
    "      print(' ',end='')\n",
    "  for k in range(2*i-1):\n",
    "     if k==0 or k==2*i-2:\n",
    "         print('s',end='')\n",
    "     else:\n",
    "         print(' ',end='')\n",
    "  print()"
   ]
  },
  {
   "cell_type": "code",
   "execution_count": 31,
   "id": "9bc33cd6-5595-4e17-84d9-145e4c722611",
   "metadata": {},
   "outputs": [
    {
     "name": "stdout",
     "output_type": "stream",
     "text": [
      "******\n",
      "******\n",
      "******\n",
      "******\n",
      "******\n",
      "******\n",
      "\n",
      "*\n",
      "**\n",
      "***\n",
      "****\n",
      "*****\n",
      "******\n",
      "      @\n",
      "     @@\n",
      "    @@@\n",
      "   @@@@\n",
      "  @@@@@\n",
      " @@@@@@\n",
      "@@@@@@@\n"
     ]
    }
   ],
   "source": [
    "n=6\n",
    "for i in range(n):\n",
    "    print('*'*n)\n",
    "n=6\n",
    "for i in range(n+1):\n",
    "      print('*'*i)\n",
    "    \n",
    "n=7\n",
    "for i in range(1,n+1):\n",
    "    print(' '*(n-i)+'@'*i)\n",
    "\n",
    "\n"
   ]
  },
  {
   "cell_type": "markdown",
   "id": "ffc470c6-1bef-4ce8-90a9-f0c22eca6cf6",
   "metadata": {},
   "source": [
    "n=4\n",
    "for i in range(1,n+1):\n",
    "    print(' '*(n-i)+'*'*(2*i-1))\n",
    "\n",
    "    print()"
   ]
  },
  {
   "cell_type": "code",
   "execution_count": 15,
   "id": "393052e1-eac0-4c3f-8864-4d41e4760170",
   "metadata": {},
   "outputs": [
    {
     "name": "stdout",
     "output_type": "stream",
     "text": [
      "******\n",
      "*****\n",
      "****\n",
      "***\n"
     ]
    }
   ],
   "source": [
    "for i in range(4):\n",
    "  print('*'*(n-i+2))"
   ]
  },
  {
   "cell_type": "markdown",
   "id": "74dd03fe-f762-4deb-a3ef-b6f85c4311de",
   "metadata": {},
   "source": [
    "## *number pattrens*"
   ]
  },
  {
   "cell_type": "markdown",
   "id": "94710bd3-9931-4f91-88ab-e58a69c0ff0c",
   "metadata": {},
   "source": [
    "### Hollow square"
   ]
  },
  {
   "cell_type": "code",
   "execution_count": 19,
   "id": "40df1e92-6c56-42c8-87d8-cd7ac0b19cb9",
   "metadata": {},
   "outputs": [
    {
     "name": "stdout",
     "output_type": "stream",
     "text": [
      "****\n",
      "****\n",
      "****\n",
      "****\n"
     ]
    }
   ],
   "source": [
    "for i in range(1,n+1):\n",
    "    print('*'*n)"
   ]
  },
  {
   "cell_type": "code",
   "execution_count": 58,
   "id": "960ee29f-2914-49df-98e7-53d615bbf8d0",
   "metadata": {},
   "outputs": [
    {
     "name": "stdin",
     "output_type": "stream",
     "text": [
      "enter a value of n: 5\n"
     ]
    },
    {
     "name": "stdout",
     "output_type": "stream",
     "text": [
      "******   **   **   ******\n"
     ]
    }
   ],
   "source": [
    "n=int(input('enter a value of n:'))\n",
    "for i in range(n):\n",
    "  for j in range(n):\n",
    "      if i==0 or i==n-1 or j==0 or j==n-1:\n",
    "          print('*',end='')\n",
    "      else:\n",
    "          print(' ',end='')\n",
    "\n",
    "print()"
   ]
  },
  {
   "cell_type": "code",
   "execution_count": 40,
   "id": "8ed45323-9450-40aa-ba5d-f78d49ee2afa",
   "metadata": {},
   "outputs": [
    {
     "name": "stdout",
     "output_type": "stream",
     "text": [
      "\n",
      "*\n",
      "**\n",
      "***\n",
      "****\n",
      "*****\n",
      "****\n",
      "***\n",
      "**\n",
      "*\n"
     ]
    }
   ],
   "source": [
    "n=5\n",
    "for i in range(n+1):\n",
    "      print('*'*i)\n",
    "\n",
    "for i in range(n-1,0,-1):\n",
    "    print('*'*i)\n",
    "    "
   ]
  },
  {
   "cell_type": "code",
   "execution_count": 50,
   "id": "2bd17141-2045-4a90-a288-0ab9daec939e",
   "metadata": {},
   "outputs": [
    {
     "name": "stdout",
     "output_type": "stream",
     "text": [
      "    *\n",
      "   **\n",
      "  ***\n",
      " ****\n",
      "*****\n",
      " ****\n",
      "  ***\n",
      "   **\n",
      "    *\n"
     ]
    }
   ],
   "source": [
    "n=5\n",
    "for i in range(1,n+1):\n",
    "    print(' '*(n-i)+'*'*i)\n",
    "\n",
    "for i in range(n-1,0,-1):\n",
    "    print(' '*(n-i)+'*'*i)"
   ]
  },
  {
   "cell_type": "code",
   "execution_count": 60,
   "id": "181ff6fc-c2eb-4ea1-bc9f-9755257f18cb",
   "metadata": {},
   "outputs": [
    {
     "ename": "SyntaxError",
     "evalue": "invalid syntax (4148048969.py, line 3)",
     "output_type": "error",
     "traceback": [
      "\u001b[1;36m  Cell \u001b[1;32mIn[60], line 3\u001b[1;36m\u001b[0m\n\u001b[1;33m    print('*'*i+' '*(2*(n-1)):\u001b[0m\n\u001b[1;37m                             ^\u001b[0m\n\u001b[1;31mSyntaxError\u001b[0m\u001b[1;31m:\u001b[0m invalid syntax\n"
     ]
    }
   ],
   "source": [
    "n=5\n",
    "for i in range(1,n+1):\n",
    "    print('*'*i+' '*(2*(n-1)):\n"
   ]
  },
  {
   "cell_type": "code",
   "execution_count": 69,
   "id": "fba36577-9959-4be7-8c74-2629e74afb65",
   "metadata": {},
   "outputs": [
    {
     "name": "stdout",
     "output_type": "stream",
     "text": [
      "* * * * * * \n",
      " * * * * * \n",
      "  * * * * \n",
      "   * * * \n",
      "    * * \n",
      "     * \n",
      "     * \n",
      "    * * \n",
      "   * * * \n",
      "  * * * * \n",
      " * * * * * \n",
      "* * * * * * \n"
     ]
    }
   ],
   "source": [
    "n=6\n",
    "for i in range(n,0,-1):\n",
    "    print(' ' * (n -i)+'* '*i)\n",
    "for i in range(1,n+1):\n",
    "    print(' ' * (n -i)+'* '*i)\n"
   ]
  },
  {
   "cell_type": "code",
   "execution_count": 75,
   "id": "5663ec0d-a499-423d-9d0a-f1e73c3cac32",
   "metadata": {},
   "outputs": [
    {
     "name": "stdout",
     "output_type": "stream",
     "text": [
      "*******\n",
      " *****\n",
      "  ***\n",
      "   *\n",
      "  ***\n",
      " *****\n",
      "*******\n"
     ]
    }
   ],
   "source": [
    "n=4\n",
    "for i in range(n,0,-1):\n",
    "    print(' '*(n-i)+'*'*(2*i-1))\n",
    "for i in range(2,n+1):\n",
    "    print(' '*(n-i)+'*'*(2*i-1))"
   ]
  },
  {
   "cell_type": "code",
   "execution_count": 86,
   "id": "2c64351f-97b3-49e1-bb86-1292e211b5f1",
   "metadata": {},
   "outputs": [
    {
     "name": "stdout",
     "output_type": "stream",
     "text": [
      "*   *\n",
      " * * \n",
      "  *  \n",
      " * * \n",
      "*   *\n"
     ]
    }
   ],
   "source": [
    "n=5\n",
    "for i in range(n):\n",
    "    for j in range(n):\n",
    "        if i==j or j==n-i-1:\n",
    "            print('*',end='')\n",
    "\n",
    "        else:\n",
    "            print(' ',end='')\n",
    "\n",
    "    print()\n"
   ]
  },
  {
   "cell_type": "markdown",
   "id": "6d9775ef-8f3f-47f0-a02b-d191e9313856",
   "metadata": {},
   "source": [
    "### Alphabets and Number pattrens"
   ]
  },
  {
   "cell_type": "code",
   "execution_count": 91,
   "id": "1f053c63-840e-427b-93e2-4205b9b06500",
   "metadata": {},
   "outputs": [
    {
     "data": {
      "text/plain": [
       "'A'"
      ]
     },
     "execution_count": 91,
     "metadata": {},
     "output_type": "execute_result"
    }
   ],
   "source": [
    "chr(65)"
   ]
  },
  {
   "cell_type": "code",
   "execution_count": 98,
   "id": "75484fc6-0403-4772-8c6c-95e70123b9e1",
   "metadata": {},
   "outputs": [
    {
     "name": "stdout",
     "output_type": "stream",
     "text": [
      "A \n",
      "A B \n",
      "A B C \n",
      "A B C D \n",
      "A B C D E \n"
     ]
    }
   ],
   "source": [
    "start=65\n",
    "for i in range(n):\n",
    "   \n",
    " for j in range(i+1):\n",
    "     print(chr(start+j),end=' ')\n",
    "\n",
    " print()"
   ]
  },
  {
   "cell_type": "code",
   "execution_count": 103,
   "id": "2ba0082e-2bca-4bac-8474-fe752e9ecacf",
   "metadata": {},
   "outputs": [
    {
     "name": "stdout",
     "output_type": "stream",
     "text": [
      "1 \n",
      "1 2 \n",
      "1 2 3 \n",
      "1 2 3 4 \n",
      "1 2 3 4 5 \n"
     ]
    }
   ],
   "source": [
    "start=1\n",
    "for i in range(n):\n",
    "   \n",
    " for j in range(i+1):\n",
    "     print((start+j),end=' ')\n",
    "\n",
    " print()"
   ]
  },
  {
   "cell_type": "code",
   "execution_count": 104,
   "id": "1a9a5f29-9d9b-43e4-a968-3dd7bde73c73",
   "metadata": {},
   "outputs": [
    {
     "name": "stdout",
     "output_type": "stream",
     "text": [
      "1 \n",
      "2 2 \n",
      "3 3 3 \n",
      "4 4 4 4 \n",
      "5 5 5 5 5 \n"
     ]
    }
   ],
   "source": [
    "start=1\n",
    "for i in range(n):\n",
    "   \n",
    " for j in range(i+1):\n",
    "     print((start+i),end=' ')\n",
    "\n",
    " print()"
   ]
  },
  {
   "cell_type": "code",
   "execution_count": 121,
   "id": "ec937f82-6db1-42e9-9f05-04776ae2f7f2",
   "metadata": {},
   "outputs": [
    {
     "name": "stdout",
     "output_type": "stream",
     "text": [
      "     1\n",
      "    12\n",
      "   123\n",
      "  1234\n",
      " 12345\n"
     ]
    }
   ],
   "source": [
    "start=1\n",
    "for i in range(n):\n",
    "   for j in range(n-i):\n",
    "     print(' ',end='')\n",
    "   \n",
    "   for j in range(i+1):\n",
    "     print((start+j),end='')\n",
    "   print()"
   ]
  },
  {
   "cell_type": "code",
   "execution_count": 122,
   "id": "686b21ad-b4cb-4600-87b2-8d07deeecd2b",
   "metadata": {},
   "outputs": [
    {
     "name": "stdout",
     "output_type": "stream",
     "text": [
      "     1 \n",
      "    1 2 \n",
      "   1 2 3 \n",
      "  1 2 3 4 \n",
      " 1 2 3 4 5 \n"
     ]
    }
   ],
   "source": [
    "start=1\n",
    "for i in range(n):\n",
    "   for j in range(n-i):\n",
    "     print(' ',end='')\n",
    "   \n",
    "   for j in range(i+1):\n",
    "     print((start+j),end=' ')\n",
    "   print()"
   ]
  },
  {
   "cell_type": "code",
   "execution_count": 133,
   "id": "7c2c1cd8-37cb-4efc-a014-5a6aa54cdfb2",
   "metadata": {},
   "outputs": [
    {
     "name": "stdout",
     "output_type": "stream",
     "text": [
      "1 2 3 4 5 \n",
      " 1 2 3 4 \n",
      "  1 2 3 \n",
      "   1 2 \n",
      "    1 \n"
     ]
    }
   ],
   "source": [
    "start=0\n",
    "for i in range(n,0,-1):\n",
    "   for j in range(n-i):\n",
    "     print(' ',end='')\n",
    "   \n",
    "   for j in range(1,i+1):\n",
    "     print((start+j),end=' ')\n",
    "   print()"
   ]
  },
  {
   "cell_type": "code",
   "execution_count": 132,
   "id": "69e13800-7c82-4d45-aaec-88beb7d0bff5",
   "metadata": {},
   "outputs": [
    {
     "name": "stdout",
     "output_type": "stream",
     "text": [
      "12345\n",
      "1234\n",
      "123\n",
      "12\n",
      "1\n"
     ]
    }
   ],
   "source": [
    "start=0\n",
    "for i in range(n,0,-1):\n",
    "   \n",
    "   for j in range(1,i+1):\n",
    "     print((start+j),end='')\n",
    "   print()"
   ]
  },
  {
   "cell_type": "code",
   "execution_count": 134,
   "id": "850b41e9-73b5-4104-b592-400fdf203abe",
   "metadata": {},
   "outputs": [
    {
     "name": "stdout",
     "output_type": "stream",
     "text": [
      "5 5 5 5 5 \n",
      " 4 4 4 4 \n",
      "  3 3 3 \n",
      "   2 2 \n",
      "    1 \n"
     ]
    }
   ],
   "source": [
    "start=0\n",
    "for i in range(n,0,-1):\n",
    "   for j in range(n-i):\n",
    "     print(' ',end='')\n",
    "   \n",
    "   for j in range(1,i+1):\n",
    "     print((start+i),end=' ')\n",
    "   print()"
   ]
  },
  {
   "cell_type": "markdown",
   "id": "fbde670a-3a9e-4c65-8727-e179776538ca",
   "metadata": {},
   "source": [
    "#### Floyds traingle"
   ]
  },
  {
   "cell_type": "code",
   "execution_count": 143,
   "id": "d41a8176-0239-4ef1-85d5-a20d029b6baf",
   "metadata": {},
   "outputs": [
    {
     "name": "stdout",
     "output_type": "stream",
     "text": [
      "     1 \n",
      "    2 3 \n",
      "   4 5 6 \n",
      "  7 8 9 10 \n",
      " 11 12 13 14 15 \n"
     ]
    }
   ],
   "source": [
    "start=1\n",
    "for i in range(n):\n",
    "   for j in range(n-i):\n",
    "     print(' ',end='')\n",
    "   \n",
    "   for j in range(i+1):\n",
    "     print((start),end=' ')\n",
    "     start+=1\n",
    "   print()"
   ]
  },
  {
   "cell_type": "code",
   "execution_count": 152,
   "id": "9bb63508-d19d-4d7b-908d-27a08c81412f",
   "metadata": {},
   "outputs": [],
   "source": [
    "n=6"
   ]
  },
  {
   "cell_type": "code",
   "execution_count": 155,
   "id": "8cfac9ae-ea7b-415b-a659-5057a1155e7f",
   "metadata": {},
   "outputs": [
    {
     "name": "stdout",
     "output_type": "stream",
     "text": [
      "21 20 19 18 17 16 \n",
      " 15 14 13 12 11 \n",
      "  10 9 8 7 \n",
      "   6 5 4 \n",
      "    3 2 \n",
      "     1 \n"
     ]
    }
   ],
   "source": [
    "start=1\n",
    "num=n*(n+1)//2\n",
    "for i in range(n,0,-1):\n",
    "   for j in range(n-i):\n",
    "     print(' ',end='')\n",
    "   \n",
    "   for j in range(i):\n",
    "     print((num),end=' ')\n",
    "     num-=1\n",
    "   print()"
   ]
  },
  {
   "cell_type": "markdown",
   "id": "1cdbb059-45b9-4191-8acb-fbacd6b6c270",
   "metadata": {},
   "source": [
    "#### diamond number pattren"
   ]
  },
  {
   "cell_type": "code",
   "execution_count": 77,
   "id": "38f08d66-1d12-4f24-b2b4-1a0b7927206a",
   "metadata": {},
   "outputs": [
    {
     "name": "stdout",
     "output_type": "stream",
     "text": [
      "    1 \n",
      "   1 1 \n",
      "  1 1 1 \n",
      " 1 1 1 1 \n",
      "1 1 1 1 1 \n",
      " 10 9 8 7 \n",
      "  6 5 4 \n",
      "   3 2 \n",
      "    1 \n"
     ]
    }
   ],
   "source": [
    "s=1\n",
    "num=(n-1)*n//2\n",
    "for i in range(1,n+1):\n",
    "   for j in range(n-i):\n",
    "     print(' ',end='')\n",
    "   \n",
    "   for j in range(1,i+1):\n",
    "     print(s,end=' ')\n",
    "   print()\n",
    "\n",
    "for i in range(n-1,0,-1):\n",
    "   for j in range(n-i):\n",
    "     print(' ',end='')\n",
    "   \n",
    "   for j in range(1,i+1):\n",
    "       print(num,end=' ')\n",
    "       num-=1\n",
    "   print()"
   ]
  },
  {
   "cell_type": "code",
   "execution_count": 78,
   "id": "f8b0f10a-a51c-47c9-963c-c3afe803edcf",
   "metadata": {},
   "outputs": [
    {
     "name": "stdout",
     "output_type": "stream",
     "text": [
      "1 2 3 4 5 6 \n",
      " 1 2 3 4 5 \n",
      "  1 2 3 4 \n",
      "   1 2 3 \n",
      "    1 2 \n",
      "     1 \n",
      "    1 2 \n",
      "   1 2 3 \n",
      "  1 2 3 4 \n",
      " 1 2 3 4 5 \n",
      "1 2 3 4 5 6 \n",
      "1 2 3 4 5 6 7 \n"
     ]
    }
   ],
   "source": [
    "\n",
    "for i in range(n,0,-1):\n",
    "   for j in range(n-i):\n",
    "     print(' ',end='')\n",
    "   \n",
    "   for j in range(i+1):\n",
    "     print((start+j),end=' ')\n",
    "   print()\n",
    "start+=0\n",
    "for i in range(n+2):\n",
    "   for j in range(n-i):\n",
    "     print(' ',end='')\n",
    "   \n",
    "   for j in range(i+1):\n",
    "     print((start+j),end=' ')\n",
    "   print()"
   ]
  },
  {
   "cell_type": "markdown",
   "id": "aada5068-6de4-4f32-8aa8-81e559859ece",
   "metadata": {},
   "source": [
    "#### pascal's triangle"
   ]
  },
  {
   "cell_type": "code",
   "execution_count": 104,
   "id": "0d0a79e8-2cc3-4e39-82e5-c134d81fc2cc",
   "metadata": {},
   "outputs": [],
   "source": [
    "import math\n",
    "### math.comb(n,k)"
   ]
  },
  {
   "cell_type": "code",
   "execution_count": 105,
   "id": "90934f77-4021-4af3-b76a-fae7da60e8c0",
   "metadata": {},
   "outputs": [
    {
     "name": "stdout",
     "output_type": "stream",
     "text": [
      "1 4 6 4 \n",
      " 1 3 3 \n",
      "  1 2 \n",
      "   1 \n"
     ]
    }
   ],
   "source": [
    "n=5\n",
    "start=1\n",
    "for i in range(n-1,0,-1):\n",
    "    for j in range(n-i-1):\n",
    "        print(' ',end='')\n",
    "    for j in range(i):\n",
    "        print(math.comb(i,j),end=' ')\n",
    "    print()"
   ]
  },
  {
   "cell_type": "code",
   "execution_count": 112,
   "id": "29c71ab7-41df-492c-9b7a-8e0b6b2434e7",
   "metadata": {},
   "outputs": [
    {
     "name": "stdout",
     "output_type": "stream",
     "text": [
      "    A \n",
      "   A B \n",
      "  A B C \n",
      " A B C D \n",
      "A B C D E \n"
     ]
    }
   ],
   "source": [
    "start=65\n",
    "for i in range(n,0,-1):\n",
    "   for j in range(n-i):\n",
    "     print(' ',end='')\n",
    "   \n",
    "   for j in range(1,i+1):\n",
    "     print(chr(j+64),end=' ')\n",
    "   print()"
   ]
  },
  {
   "cell_type": "markdown",
   "id": "be295e08-dfdc-4488-bdd6-f4c12c482989",
   "metadata": {},
   "source": [
    "#### diamond pascal"
   ]
  },
  {
   "cell_type": "code",
   "execution_count": 114,
   "id": "21cadbed-2c3b-4adc-b007-be836d603edd",
   "metadata": {},
   "outputs": [
    {
     "name": "stdout",
     "output_type": "stream",
     "text": [
      "    A \n",
      "   A B \n",
      "  A B C \n",
      " A B C D \n",
      "A B C D E \n",
      " A B C D \n",
      "  A B C \n",
      "   A B \n",
      "    A \n"
     ]
    }
   ],
   "source": [
    "start=65\n",
    "for i in range(1,n+1):\n",
    "   for j in range(n-i):\n",
    "     print(' ',end='')\n",
    "   \n",
    "   for j in range(1,i+1):\n",
    "     print(chr(j+64),end=' ')\n",
    "   print()\n",
    "for i in range(n-1,0,-1):\n",
    "   for j in range(n-i):\n",
    "     print(' ',end='')\n",
    "   \n",
    "   for j in range(1,i+1):\n",
    "     print(chr(j+64),end=' ')\n",
    "   print()"
   ]
  },
  {
   "cell_type": "code",
   "execution_count": 126,
   "id": "9fc3552c-90e7-44d8-a260-fd1367a467ff",
   "metadata": {},
   "outputs": [
    {
     "name": "stdout",
     "output_type": "stream",
     "text": [
      "A B C D E F \n",
      " A       E \n",
      "  A     D \n",
      "   A   C \n",
      "    A B \n",
      "     A \n"
     ]
    }
   ],
   "source": [
    "start=65\n",
    "\n",
    "for i in range(n,0,-1):\n",
    "    for j in range(n-i):\n",
    "        print(' ',end='')\n",
    "        \n",
    "    for j in range(i):\n",
    "        if j==0 or j==i-1 or i==n:\n",
    "           print(chr(start+j),end=' ')\n",
    "        else:\n",
    "           print(' ',end=' ')\n",
    "\n",
    "    print()\n"
   ]
  },
  {
   "cell_type": "code",
   "execution_count": 139,
   "id": "81b54a86-8e05-46a1-b071-de241990bab4",
   "metadata": {},
   "outputs": [
    {
     "name": "stdout",
     "output_type": "stream",
     "text": [
      "     \n",
      "    O \n",
      "   N M \n",
      "  L K J \n",
      " I H G F \n"
     ]
    }
   ],
   "source": [
    "start=1\n",
    "\n",
    "tot=n*(n-1)//2\n",
    "for i in range(n):\n",
    "    for j in range(n-i):\n",
    "        print(' ',end='')\n",
    "    for j in range(i):\n",
    "        print(chr(tot+64),end=' ')\n",
    "        tot-=1\n",
    "\n",
    "    print()\n",
    "    "
   ]
  },
  {
   "cell_type": "code",
   "execution_count": 24,
   "id": "15075ea4-36e0-4bfa-8ca9-34813b07a37f",
   "metadata": {},
   "outputs": [
    {
     "name": "stdout",
     "output_type": "stream",
     "text": [
      "     \n",
      "    O \n",
      "   N M \n",
      "  L K J \n",
      " I H G F \n",
      "O N M L K \n",
      " J I H G \n",
      "  F E D \n",
      "   C B \n",
      "    A \n"
     ]
    }
   ],
   "source": [
    "\n",
    "start=1\n",
    "tot=n*(n+1)//2\n",
    "for i in range(n):\n",
    "    for j in range(n-i):\n",
    "        print(' ',end='')\n",
    "    for j in range(i):\n",
    "        print(chr(tot+64),end=' ')\n",
    "        tot-=1\n",
    "\n",
    "    print()\n",
    "\n",
    "tot=n*(n+1)//2\n",
    "for i in range(n,0,-1):\n",
    "    for j in range(n-i):\n",
    "        print(' ',end='')\n",
    "    for j in range(i):\n",
    "        print(chr(tot+64),end=' ')\n",
    "        tot-=1\n",
    "\n",
    "    print()"
   ]
  },
  {
   "cell_type": "code",
   "execution_count": 164,
   "id": "617a99ea-4915-4196-a0f4-1adf9aeb8a93",
   "metadata": {},
   "outputs": [
    {
     "name": "stdout",
     "output_type": "stream",
     "text": [
      "    A \n",
      "   A A \n",
      "  A   B \n",
      " B     D \n",
      "D       G \n",
      " J     H   \n",
      "  G   F     \n",
      "   D D       \n",
      "    A         \n"
     ]
    }
   ],
   "source": [
    "start=65\n",
    "\n",
    "for i in range(1,n+1):\n",
    "    for j in range(n-i):\n",
    "        print(' ',end='')\n",
    "        \n",
    "    for j in range(i):\n",
    "        if j==0 or j==i-1:\n",
    "           print(chr(start),end=' ')\n",
    "        else:\n",
    "           print(' ',end=' ')\n",
    "           start+=1\n",
    "\n",
    "    print()\n",
    "\n",
    "tot=n*(n-1)//2\n",
    "for i in range(n-1,0,-1):\n",
    "    for j in range(n-i):\n",
    "        print(' ',end='')\n",
    "        \n",
    "    for j in range(n):\n",
    "        if j==0 or j==i-1:\n",
    "           print(chr(tot+64),end=' ')\n",
    "        else:\n",
    "           print(' ',end=' ')\n",
    "           tot-=1\n",
    "\n",
    "    print()\n",
    "\n",
    "\n"
   ]
  },
  {
   "cell_type": "code",
   "execution_count": null,
   "id": "7c604758-7b9e-40f9-875d-4c72057a04d6",
   "metadata": {},
   "outputs": [],
   "source": []
  }
 ],
 "metadata": {
  "kernelspec": {
   "display_name": "Python 3 (ipykernel)",
   "language": "python",
   "name": "python3"
  },
  "language_info": {
   "codemirror_mode": {
    "name": "ipython",
    "version": 3
   },
   "file_extension": ".py",
   "mimetype": "text/x-python",
   "name": "python",
   "nbconvert_exporter": "python",
   "pygments_lexer": "ipython3",
   "version": "3.12.7"
  }
 },
 "nbformat": 4,
 "nbformat_minor": 5
}
