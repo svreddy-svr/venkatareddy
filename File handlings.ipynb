{
 "cells": [
  {
   "cell_type": "markdown",
   "id": "f81d755c-a831-4712-9aca-1b15807d7ddd",
   "metadata": {},
   "source": [
    "# *File handlings*"
   ]
  },
  {
   "cell_type": "markdown",
   "id": "c3f9d813-59cc-492c-9a37-9b527df0e725",
   "metadata": {},
   "source": [
    "file handling in python allows you to create ,read write and delete files within you python programs.used of storing results,lod data and data processing\n",
    "\n",
    "**1**.file handlings are 4 methods\n",
    "\n",
    "**i**.read opration=>read the content =>'r'\n",
    "\n",
    "**ii**.write opration=>write the content =>'w'\n",
    "\n",
    "**iii** append the file =>'a'\n"
   ]
  },
  {
   "cell_type": "markdown",
   "id": "51f14b68-b975-459b-826f-f240032818b2",
   "metadata": {},
   "source": [
    "## creating a file"
   ]
  },
  {
   "cell_type": "code",
   "execution_count": 67,
   "id": "7d2c012d-6ef7-4cf1-b492-9fa63ce03e46",
   "metadata": {},
   "outputs": [],
   "source": [
    "f=open('venkat1.txt','w')\n",
    "f.close()"
   ]
  },
  {
   "cell_type": "markdown",
   "id": "9a1dec8d-e03e-4b0a-b7b2-b78c77ef2a44",
   "metadata": {},
   "source": [
    "### wtriting into a file"
   ]
  },
  {
   "cell_type": "code",
   "execution_count": 69,
   "id": "074ffbf9-e89e-4c27-9b0d-d5af4a4b82ad",
   "metadata": {},
   "outputs": [],
   "source": [
    "\n",
    "f=open('venkat1.txt','w')\n",
    "f.write('sachin\\n')\n",
    "f.write('venkat\\n')\n",
    "f.write('reddy')\n",
    "f.close()"
   ]
  },
  {
   "cell_type": "markdown",
   "id": "9f59b500-e309-4d55-8f9b-e8f675fff6f6",
   "metadata": {},
   "source": [
    "#### reading from a file"
   ]
  },
  {
   "cell_type": "code",
   "execution_count": 70,
   "id": "afa6137b-a511-4f5d-ae9d-bbb6cad793ae",
   "metadata": {},
   "outputs": [
    {
     "name": "stdout",
     "output_type": "stream",
     "text": [
      "sachin\n",
      "venkat\n",
      "reddy\n"
     ]
    }
   ],
   "source": [
    "f=open('venkat1.txt','r')\n",
    "print(f.read())\n",
    "f.close()"
   ]
  },
  {
   "cell_type": "code",
   "execution_count": 72,
   "id": "7c8b70c5-b0eb-45c6-8b3a-171a055ef2e6",
   "metadata": {},
   "outputs": [
    {
     "name": "stdout",
     "output_type": "stream",
     "text": [
      "sachin\n",
      "venkat\n",
      "reddy\n"
     ]
    }
   ],
   "source": [
    "f=open('venkat1.txt','r')\n",
    "for lines in f:\n",
    "    print(lines.strip())\n",
    "f.close()"
   ]
  },
  {
   "cell_type": "code",
   "execution_count": 74,
   "id": "1ae6d728-9ab3-4065-8b03-5d6452363c68",
   "metadata": {},
   "outputs": [],
   "source": [
    "f=open('venkat1.txt','w')\n",
    "f.write('\\nzaeer')\n",
    "f.write('\\nirphan patan')\n",
    "f.write('\\nganguly')\n",
    "f.close()"
   ]
  },
  {
   "cell_type": "markdown",
   "id": "c1ba0dda-f06d-42c6-977b-bd401c1a20b4",
   "metadata": {},
   "source": [
    "#### append data to a file"
   ]
  },
  {
   "cell_type": "code",
   "execution_count": 75,
   "id": "4cb10fb0-4187-4c62-9520-ca91874f5a8a",
   "metadata": {},
   "outputs": [],
   "source": [
    "f=open('venkat1.txt','a')\n",
    "f.write('\\nsachin')\n",
    "f.write('\\nsehwag')\n",
    "f.write('\\nyuvaraj')\n",
    "f.close()"
   ]
  },
  {
   "cell_type": "code",
   "execution_count": 76,
   "id": "31e005e9-4410-439d-ab69-26427894e154",
   "metadata": {},
   "outputs": [
    {
     "name": "stdout",
     "output_type": "stream",
     "text": [
      "\n",
      "\n",
      "zaeer\n",
      "\n",
      "irphan patan\n",
      "\n",
      "ganguly\n",
      "\n"
     ]
    }
   ],
   "source": [
    "f=open('venkat1.txt','r')\n",
    "print(f.readline())\n",
    "print(f.readline())\n",
    "print(f.readline())\n",
    "print(f.readline())\n",
    "f.close()"
   ]
  },
  {
   "cell_type": "code",
   "execution_count": 78,
   "id": "4a52d8be-3ef6-4ba6-bf6a-65ac2c6fe27a",
   "metadata": {},
   "outputs": [
    {
     "name": "stdout",
     "output_type": "stream",
     "text": [
      "['\\n', 'zaeer\\n', 'irphan patan\\n', 'ganguly\\n', 'sachin\\n', 'sehwag\\n', 'yuvaraj']\n"
     ]
    }
   ],
   "source": [
    "f=open('venkat1.txt','r')\n",
    "print(f.readlines())\n",
    "f.close()"
   ]
  },
  {
   "cell_type": "code",
   "execution_count": 79,
   "id": "abc34e42-6427-42ab-9b99-d135d20f0e87",
   "metadata": {},
   "outputs": [
    {
     "name": "stdout",
     "output_type": "stream",
     "text": [
      "\n",
      "zaeer\n",
      "irphan patan\n",
      "ganguly\n",
      "sachin\n",
      "sehwag\n",
      "yuvaraj\n"
     ]
    }
   ],
   "source": [
    "with open('venkat1.txt','r') as f:\n",
    "    print(f.read())"
   ]
  },
  {
   "cell_type": "markdown",
   "id": "abaf7339-487d-47ef-82cc-f3e82b93b980",
   "metadata": {},
   "source": [
    "### checking if a file exists"
   ]
  },
  {
   "cell_type": "code",
   "execution_count": 80,
   "id": "0dcd28b1-d5e2-49b7-a731-926beffdb8c2",
   "metadata": {},
   "outputs": [
    {
     "name": "stdout",
     "output_type": "stream",
     "text": [
      "True\n"
     ]
    }
   ],
   "source": [
    "import os\n",
    "print(os.path.exists('venkat1.txt'))"
   ]
  },
  {
   "cell_type": "code",
   "execution_count": 81,
   "id": "0019d471-fc07-44c9-a891-30f8c9b59ac7",
   "metadata": {},
   "outputs": [
    {
     "name": "stdout",
     "output_type": "stream",
     "text": [
      "False\n"
     ]
    }
   ],
   "source": [
    "print(os.path.exists('satya.txt'))"
   ]
  },
  {
   "cell_type": "markdown",
   "id": "39e5ba23-7ff0-46ac-873b-56ad2fabe2d7",
   "metadata": {},
   "source": [
    "### Deleting a file"
   ]
  },
  {
   "cell_type": "code",
   "execution_count": 86,
   "id": "5cf96497-04b7-4e19-8540-3e3cefef5e9b",
   "metadata": {},
   "outputs": [
    {
     "name": "stdout",
     "output_type": "stream",
     "text": [
      "file does not exist\n"
     ]
    }
   ],
   "source": [
    "if os.path.exists('satya.txt'):\n",
    "    os.remove('satya.txt')\n",
    "else:\n",
    "    print('file does not exist')"
   ]
  },
  {
   "cell_type": "markdown",
   "id": "394a5f4b-90ac-4932-85f8-a57245b0de70",
   "metadata": {},
   "source": [
    "### Exception handling"
   ]
  },
  {
   "cell_type": "code",
   "execution_count": 89,
   "id": "c91118a0-d7c1-4ae3-9838-2896371be996",
   "metadata": {},
   "outputs": [
    {
     "name": "stdin",
     "output_type": "stream",
     "text": [
      "enter a value: 3\n",
      "enter a value: 0\n"
     ]
    },
    {
     "ename": "ZeroDivisionError",
     "evalue": "division by zero",
     "output_type": "error",
     "traceback": [
      "\u001b[1;31m---------------------------------------------------------------------------\u001b[0m",
      "\u001b[1;31mZeroDivisionError\u001b[0m                         Traceback (most recent call last)",
      "Cell \u001b[1;32mIn[89], line 3\u001b[0m\n\u001b[0;32m      1\u001b[0m a\u001b[38;5;241m=\u001b[39m\u001b[38;5;28mint\u001b[39m(\u001b[38;5;28minput\u001b[39m(\u001b[38;5;124m'\u001b[39m\u001b[38;5;124menter a value:\u001b[39m\u001b[38;5;124m'\u001b[39m))\n\u001b[0;32m      2\u001b[0m b\u001b[38;5;241m=\u001b[39m\u001b[38;5;28mint\u001b[39m(\u001b[38;5;28minput\u001b[39m(\u001b[38;5;124m'\u001b[39m\u001b[38;5;124menter a value:\u001b[39m\u001b[38;5;124m'\u001b[39m))\n\u001b[1;32m----> 3\u001b[0m c\u001b[38;5;241m=\u001b[39ma\u001b[38;5;241m/\u001b[39mb\n\u001b[0;32m      4\u001b[0m \u001b[38;5;28mprint\u001b[39m(\u001b[38;5;124m'\u001b[39m\u001b[38;5;124mthe result is:\u001b[39m\u001b[38;5;124m'\u001b[39m,c)\n",
      "\u001b[1;31mZeroDivisionError\u001b[0m: division by zero"
     ]
    }
   ],
   "source": [
    "a=int(input('enter a value:'))\n",
    "b=int(input('enter a value:'))\n",
    "c=a/b\n",
    "print('the result is:',c)\n"
   ]
  },
  {
   "cell_type": "code",
   "execution_count": 95,
   "id": "8fe7fe37-c9aa-48b3-9061-0b4a0678ed3e",
   "metadata": {},
   "outputs": [
    {
     "name": "stdin",
     "output_type": "stream",
     "text": [
      "enter a value: 10\n",
      "enter a value: 0\n"
     ]
    },
    {
     "name": "stdout",
     "output_type": "stream",
     "text": [
      "the denominator should be greater than zero\n"
     ]
    }
   ],
   "source": [
    "a=int(input('enter a value:'))\n",
    "b=int(input('enter a value:'))\n",
    "try:\n",
    "    c=a/b\n",
    "    print('the result is:',c)\n",
    "except ZeroDivisionError:\n",
    "    \n",
    "    print('the denominator should be greater than zero')\n",
    "    \n",
    "    \n"
   ]
  },
  {
   "cell_type": "code",
   "execution_count": 97,
   "id": "acfa9d4d-1cbe-449b-9521-fc768ba12cf3",
   "metadata": {},
   "outputs": [
    {
     "name": "stdout",
     "output_type": "stream",
     "text": [
      "index out of range\n"
     ]
    }
   ],
   "source": [
    "a=[23,56,67,90]\n",
    "try:\n",
    "    print(a[4])\n",
    "except IndexError:\n",
    "    print('index out of range')"
   ]
  },
  {
   "cell_type": "code",
   "execution_count": 99,
   "id": "d090f0bb-8346-4c8a-8b49-5da9eed81059",
   "metadata": {},
   "outputs": [
    {
     "ename": "KeyError",
     "evalue": "3",
     "output_type": "error",
     "traceback": [
      "\u001b[1;31m---------------------------------------------------------------------------\u001b[0m",
      "\u001b[1;31mKeyError\u001b[0m                                  Traceback (most recent call last)",
      "Cell \u001b[1;32mIn[99], line 2\u001b[0m\n\u001b[0;32m      1\u001b[0m D\u001b[38;5;241m=\u001b[39m{\u001b[38;5;241m1\u001b[39m:\u001b[38;5;241m34\u001b[39m,\u001b[38;5;241m2\u001b[39m:\u001b[38;5;241m45\u001b[39m}\n\u001b[1;32m----> 2\u001b[0m D[\u001b[38;5;241m3\u001b[39m]\n",
      "\u001b[1;31mKeyError\u001b[0m: 3"
     ]
    }
   ],
   "source": [
    "D={1:34,2:45}\n",
    "D[3]"
   ]
  },
  {
   "cell_type": "code",
   "execution_count": 106,
   "id": "a44ef562-b4ed-4fa2-990e-9d8de1fdb3b5",
   "metadata": {},
   "outputs": [
    {
     "name": "stdin",
     "output_type": "stream",
     "text": [
      "enter a value: 24\n",
      "enter a value: 6\n"
     ]
    },
    {
     "name": "stdout",
     "output_type": "stream",
     "text": [
      "the result is: 4.0\n",
      "Execution done\n"
     ]
    }
   ],
   "source": [
    "a=int(input('enter a value:'))\n",
    "b=int(input('enter a value:'))\n",
    "try:\n",
    "    c=a/b\n",
    "    print('the result is:',c)\n",
    "except ZeroDivisionError:\n",
    "    \n",
    "    print('the denominator should be greater than zero')\n",
    "finally:\n",
    "    print('Execution done')\n",
    "    "
   ]
  },
  {
   "cell_type": "code",
   "execution_count": null,
   "id": "5b3304f2-4e20-4af1-abb2-56f4b9d67c3c",
   "metadata": {},
   "outputs": [],
   "source": []
  },
  {
   "cell_type": "code",
   "execution_count": null,
   "id": "15a00da1-82d1-47ed-a072-1016aa201358",
   "metadata": {},
   "outputs": [],
   "source": []
  },
  {
   "cell_type": "code",
   "execution_count": null,
   "id": "76d1703c-56b5-4451-9990-1f0b973ddd9f",
   "metadata": {},
   "outputs": [],
   "source": []
  },
  {
   "cell_type": "code",
   "execution_count": 58,
   "id": "4faa11f3-5a4a-4b15-8dfc-5ddffe242e0f",
   "metadata": {},
   "outputs": [],
   "source": [
    "path='reddy.txt'"
   ]
  },
  {
   "cell_type": "code",
   "execution_count": 59,
   "id": "8961ec7d-02c6-44a4-afde-e84cfa33e7d9",
   "metadata": {},
   "outputs": [],
   "source": [
    "f=open(path,'r')"
   ]
  },
  {
   "cell_type": "code",
   "execution_count": 60,
   "id": "b3f22226-e07c-4ca6-9fd9-d44fd9adef17",
   "metadata": {},
   "outputs": [
    {
     "name": "stdout",
     "output_type": "stream",
     "text": [
      "\n"
     ]
    }
   ],
   "source": [
    "content=f.read()\n",
    "print(content)"
   ]
  },
  {
   "cell_type": "code",
   "execution_count": 61,
   "id": "316a5554-0aab-411d-9257-7e5ff08d96de",
   "metadata": {},
   "outputs": [
    {
     "name": "stdout",
     "output_type": "stream",
     "text": [
      "\n"
     ]
    }
   ],
   "source": [
    "print(content)"
   ]
  },
  {
   "cell_type": "code",
   "execution_count": 62,
   "id": "2b31253b-13bd-4067-bc2a-24d207729607",
   "metadata": {},
   "outputs": [
    {
     "name": "stdout",
     "output_type": "stream",
     "text": [
      "\n"
     ]
    }
   ],
   "source": [
    "with open(path,'r')as f:\n",
    "    print(f.read())"
   ]
  },
  {
   "cell_type": "code",
   "execution_count": 45,
   "id": "4924d6c6-cf7d-4e13-953b-0e75714dd110",
   "metadata": {},
   "outputs": [],
   "source": [
    "f.close()"
   ]
  },
  {
   "cell_type": "code",
   "execution_count": 46,
   "id": "323ac7cf-a496-4bf1-9f17-aaa3f7ee97bd",
   "metadata": {},
   "outputs": [
    {
     "name": "stdout",
     "output_type": "stream",
     "text": [
      "\n"
     ]
    }
   ],
   "source": [
    "with open(path,'r') as f:\n",
    "    print(f.read())\n",
    "    "
   ]
  },
  {
   "cell_type": "code",
   "execution_count": 9,
   "id": "5ffaeaa0-96e8-4839-8f47-28c51d85410f",
   "metadata": {},
   "outputs": [
    {
     "name": "stdout",
     "output_type": "stream",
     "text": [
      "0\n",
      "reading first 5 indices:\n",
      "\n",
      "\n",
      "position of the cursor after reading the 5 indices:0\n",
      "\n",
      "reading from the current position to next 5 positions:\n",
      "\n",
      "\n"
     ]
    }
   ],
   "source": [
    "with open(path,'r') as f:\n",
    "    print(f.tell())\n",
    "    print(f'reading first 5 indices:\\n{f.read(5)}\\n')\n",
    "    print(f'position of the cursor after reading the 5 indices:{f.tell()}\\n')\n",
    "    print(f'reading from the current position to next 5 positions:\\n{f.read(5)}\\n')\n",
    "    "
   ]
  },
  {
   "cell_type": "code",
   "execution_count": 10,
   "id": "9bb3464b-aa71-44cd-bcbd-cc7eb8336cac",
   "metadata": {},
   "outputs": [
    {
     "data": {
      "text/plain": [
       "'s'"
      ]
     },
     "execution_count": 10,
     "metadata": {},
     "output_type": "execute_result"
    }
   ],
   "source": [
    "s='venky sangana'\n",
    "s[6]"
   ]
  },
  {
   "cell_type": "code",
   "execution_count": 11,
   "id": "7640909b-b471-47f2-a47a-813c426a2613",
   "metadata": {},
   "outputs": [
    {
     "name": "stdout",
     "output_type": "stream",
     "text": [
      "1\n"
     ]
    }
   ],
   "source": [
    "with open(path,'r') as f:\n",
    "    print(f.seek(1))"
   ]
  },
  {
   "cell_type": "code",
   "execution_count": 32,
   "id": "2a596737-f9b2-4cdd-b7c8-5bc723cf7064",
   "metadata": {},
   "outputs": [
    {
     "name": "stdout",
     "output_type": "stream",
     "text": [
      "Python is a high-level, interpreted, general-purpose programming language known for its readability and versatility. Developed by Guido van Rossum, it was first released in 1991. Python emphasizes code clarity through significant indentation and supports multiple programming paradigms, including object-oriented, procedural, and functional programming. It's widely used for web development, data science, machine learning, scripting, and more. \n"
     ]
    }
   ],
   "source": [
    "with open(path,'r') as f:\n",
    "    for i in f.readlines():\n",
    "      print(i)"
   ]
  },
  {
   "cell_type": "code",
   "execution_count": 13,
   "id": "1ea8421f-6173-4bcf-919a-8fc38111f08f",
   "metadata": {},
   "outputs": [
    {
     "name": "stdout",
     "output_type": "stream",
     "text": [
      "[]\n"
     ]
    }
   ],
   "source": [
    "with open(path,'r') as f:\n",
    "    print(f.readlines())"
   ]
  },
  {
   "cell_type": "code",
   "execution_count": 14,
   "id": "4101fcba-5ddb-4bcc-9765-7620def6ea19",
   "metadata": {},
   "outputs": [
    {
     "name": "stdout",
     "output_type": "stream",
     "text": [
      "\n"
     ]
    }
   ],
   "source": [
    "with open(path,'r') as f:\n",
    "    print(f.readline())"
   ]
  },
  {
   "cell_type": "code",
   "execution_count": 15,
   "id": "895703be-fdd0-425c-ba2e-712865c63583",
   "metadata": {},
   "outputs": [],
   "source": [
    "path='venkat.txt'\n"
   ]
  },
  {
   "cell_type": "code",
   "execution_count": 16,
   "id": "f934b2c5-cb08-4430-880d-5ba8ced84da4",
   "metadata": {},
   "outputs": [
    {
     "name": "stdout",
     "output_type": "stream",
     "text": [
      "\n"
     ]
    }
   ],
   "source": [
    "f=open(path,'r')\n",
    "content=f.read()\n",
    "print(content)"
   ]
  },
  {
   "cell_type": "code",
   "execution_count": 17,
   "id": "7e726d14-8762-4af5-98e0-972636ca7e42",
   "metadata": {},
   "outputs": [
    {
     "name": "stdout",
     "output_type": "stream",
     "text": [
      "venkat.txt\n"
     ]
    }
   ],
   "source": [
    "print(path)"
   ]
  },
  {
   "cell_type": "code",
   "execution_count": 31,
   "id": "74d74c9b-6207-4162-840b-ea3a231ef209",
   "metadata": {},
   "outputs": [
    {
     "name": "stdout",
     "output_type": "stream",
     "text": [
      "Python is a high-level, interpreted, general-purpose programming language known for its readability and versatility. Developed by Guido van Rossum, it was first released in 1991. Python emphasizes code clarity through significant indentation and supports multiple programming paradigms, including object-oriented, procedural, and functional programming. It's widely used for web development, data science, machine learning, scripting, and more. \n"
     ]
    }
   ],
   "source": [
    "with open(path,'r')as f:\n",
    "    print(f.readline())"
   ]
  },
  {
   "cell_type": "code",
   "execution_count": 19,
   "id": "49f2746e-8e8e-4ccd-8765-763e223673cc",
   "metadata": {},
   "outputs": [
    {
     "name": "stdout",
     "output_type": "stream",
     "text": [
      "reading first 5 indices:\n",
      "\n",
      "\n",
      "position of the cursor after reading the 5 indices:0\n",
      "\n",
      "reading from the current position to next 5 positions:\n",
      "\n",
      "\n"
     ]
    }
   ],
   "source": [
    "with open(path,'r')as f:\n",
    " print(f'reading first 5 indices:\\n{f.read(5)}\\n')\n",
    " print(f'position of the cursor after reading the 5 indices:{f.tell()}\\n')\n",
    " print(f'reading from the current position to next 5 positions:\\n{f.read(5)}\\n')"
   ]
  },
  {
   "cell_type": "code",
   "execution_count": 20,
   "id": "3e55f882-2801-4c0b-a77c-bce2a1dca68f",
   "metadata": {},
   "outputs": [
    {
     "name": "stdout",
     "output_type": "stream",
     "text": [
      "venkatareddy \n"
     ]
    }
   ],
   "source": [
    "with open(path,'w')as f:\n",
    "    print('venkatareddy',content)"
   ]
  },
  {
   "cell_type": "code",
   "execution_count": 21,
   "id": "81c760f8-545b-4e6a-983b-14896e7724aa",
   "metadata": {},
   "outputs": [],
   "source": [
    "path='venkat1.txt'"
   ]
  },
  {
   "cell_type": "code",
   "execution_count": 22,
   "id": "6f6b7aa8-fe8c-4b27-978c-494662e147ae",
   "metadata": {},
   "outputs": [
    {
     "name": "stdout",
     "output_type": "stream",
     "text": [
      "Python is a high-level, interpreted, general-purpose programming language known for its readability and versatility. Developed by Guido van Rossum, it was first released in 1991. Python emphasizes code clarity through significant indentation and supports multiple programming paradigms, including object-oriented, procedural, and functional programming. It's widely used for web development, data science, machine learning, scripting, and more. \n"
     ]
    }
   ],
   "source": [
    "f=open(path,'r')\n",
    "content=f.read()\n",
    "print(content)"
   ]
  },
  {
   "cell_type": "code",
   "execution_count": 23,
   "id": "0fbeb9d4-f621-48d1-9ceb-153903c4436e",
   "metadata": {},
   "outputs": [
    {
     "name": "stdout",
     "output_type": "stream",
     "text": [
      "6\n",
      "None\n"
     ]
    }
   ],
   "source": [
    "def func(a):\n",
    "  print(abs(a))\n",
    "print(func(-6))"
   ]
  },
  {
   "cell_type": "code",
   "execution_count": 24,
   "id": "c06e21bc-0d30-4b45-b380-ef44c641a4b9",
   "metadata": {},
   "outputs": [
    {
     "name": "stdout",
     "output_type": "stream",
     "text": [
      "16\n"
     ]
    }
   ],
   "source": [
    "a=-6\n",
    "b=-10\n",
    "c=a+b\n",
    "print(abs(c))"
   ]
  },
  {
   "cell_type": "code",
   "execution_count": 25,
   "id": "2baefd78-b302-4b41-a777-5dbbf89fb49a",
   "metadata": {},
   "outputs": [],
   "source": [
    "def transaction_summary(transactions):\n",
    "   total_received=0\n",
    "   totals_spent=0\n",
    "   for amount in transactions:\n",
    "        if amount>0:\n",
    "            total_received+=amount\n",
    "        else:\n",
    "            totals_spent-=amount\n",
    "   net_balance=total_received-totals_spent\n",
    "   return{\n",
    "    'total received':total_received,\n",
    "    'total spent':totals_spent,\n",
    "    'net balance':net_balance\n",
    "}"
   ]
  },
  {
   "cell_type": "code",
   "execution_count": 26,
   "id": "f29af94d-83b9-490c-8d18-6444bbcfc1d5",
   "metadata": {},
   "outputs": [
    {
     "name": "stdout",
     "output_type": "stream",
     "text": [
      "{'total received': 1900, 'total spent': 900, 'net balance': 1000}\n"
     ]
    }
   ],
   "source": [
    "transactions=[300,-400,600,700,-500,300]\n",
    "print(transaction_summary(transactions))"
   ]
  },
  {
   "cell_type": "code",
   "execution_count": 27,
   "id": "08cdbc81-aa48-44f4-bbb8-e1e8e1ee214f",
   "metadata": {},
   "outputs": [],
   "source": [
    "def parking_fee(hours):\n",
    "    if hours<=2:\n",
    "        return hours*5\n",
    "    elif hours<=5:\n",
    "        return (2*5)+((hours-2)-4)\n",
    "    else:\n",
    "        return (2*5)+(3*4)+((hours-5)*3)"
   ]
  },
  {
   "cell_type": "code",
   "execution_count": 28,
   "id": "0de0e9c9-1a67-4276-a56c-a1c5616d04d9",
   "metadata": {},
   "outputs": [
    {
     "name": "stdout",
     "output_type": "stream",
     "text": [
      "9\n"
     ]
    }
   ],
   "source": [
    "print(parking_fee(5))"
   ]
  },
  {
   "cell_type": "code",
   "execution_count": 29,
   "id": "06e8f731-761b-437d-88f0-427f5918b01b",
   "metadata": {},
   "outputs": [],
   "source": [
    "def calculate_bonus():\n",
    "    employee_name=input('enter employee name:')\n",
    "    try:\n",
    "        years_of_experience=int(input('enter your experience'))\n",
    "    except valueError:\n",
    "        print('invalid experience entered')\n",
    "        return\n",
    "    if years_of_experience<0:\n",
    "        print('invalid experience entered')\n",
    "    elif 0<=years_of_experience<=1:\n",
    "        bonus=0\n",
    "    elif 2<=years_of_experience<=4:\n",
    "        bonus=5000\n",
    "    elif 5<=years_of_experience<=9:\n",
    "        bonus=10000\n",
    "    elif years_of_experience>=10:\n",
    "        bonus=20000\n",
    "    print('employee name',employee_name)\n",
    "    print('years of experience',years_of_experience)\n",
    "    print('bonus amount:',bonus)"
   ]
  },
  {
   "cell_type": "code",
   "execution_count": 30,
   "id": "01b98e53-1e0f-4997-85d5-6cab7e64c187",
   "metadata": {},
   "outputs": [
    {
     "name": "stdin",
     "output_type": "stream",
     "text": [
      "enter employee name: 3\n",
      "enter your experience 3\n"
     ]
    },
    {
     "name": "stdout",
     "output_type": "stream",
     "text": [
      "employee name 3\n",
      "years of experience 3\n",
      "bonus amount: 5000\n"
     ]
    }
   ],
   "source": [
    "calculate_bonus()"
   ]
  },
  {
   "cell_type": "markdown",
   "id": "8b75a026-3265-4d2f-ab38-3dd4793fffa3",
   "metadata": {},
   "source": [
    "#### Swaping"
   ]
  },
  {
   "cell_type": "raw",
   "id": "1a5cc65f-ab27-41d7-8c50-a73a08129bee",
   "metadata": {},
   "source": [
    "swapping two numbers\n",
    "input a=3,b=7\n",
    "output=7,b=3"
   ]
  },
  {
   "cell_type": "code",
   "execution_count": 12,
   "id": "adbc2d93-cd2f-47a0-8745-acc928a2836d",
   "metadata": {},
   "outputs": [],
   "source": [
    "a=3\n",
    "b=7"
   ]
  },
  {
   "cell_type": "code",
   "execution_count": 13,
   "id": "684a291b-c23a-4d9c-9367-27220cfba5e4",
   "metadata": {},
   "outputs": [],
   "source": [
    "a,b=b,a"
   ]
  },
  {
   "cell_type": "code",
   "execution_count": 14,
   "id": "bc0f923f-10da-4f52-98b0-bd4807554d34",
   "metadata": {},
   "outputs": [
    {
     "data": {
      "text/plain": [
       "7"
      ]
     },
     "execution_count": 14,
     "metadata": {},
     "output_type": "execute_result"
    }
   ],
   "source": [
    "a"
   ]
  },
  {
   "cell_type": "code",
   "execution_count": 15,
   "id": "e5b80a3d-0f7a-4583-b0e8-35f0b4c21cf4",
   "metadata": {},
   "outputs": [
    {
     "data": {
      "text/plain": [
       "3"
      ]
     },
     "execution_count": 15,
     "metadata": {},
     "output_type": "execute_result"
    }
   ],
   "source": [
    "b"
   ]
  },
  {
   "cell_type": "code",
   "execution_count": 23,
   "id": "0a3139d4-8f19-4e54-8e3c-5a38fa726830",
   "metadata": {},
   "outputs": [],
   "source": [
    "a=20\n",
    "b=40"
   ]
  },
  {
   "cell_type": "code",
   "execution_count": 24,
   "id": "d29a4abe-2a61-47b6-8a3e-592f30aef900",
   "metadata": {},
   "outputs": [],
   "source": [
    "temp=a\n",
    "a=b\n",
    "b=temp"
   ]
  },
  {
   "cell_type": "code",
   "execution_count": 25,
   "id": "b0d83892-f93f-4456-b6d9-bd6f5b4f7c7b",
   "metadata": {},
   "outputs": [
    {
     "data": {
      "text/plain": [
       "40"
      ]
     },
     "execution_count": 25,
     "metadata": {},
     "output_type": "execute_result"
    }
   ],
   "source": [
    "a"
   ]
  },
  {
   "cell_type": "code",
   "execution_count": 26,
   "id": "53500324-dd50-42b5-ad1e-0a81904100eb",
   "metadata": {},
   "outputs": [
    {
     "name": "stdout",
     "output_type": "stream",
     "text": [
      "67\n"
     ]
    }
   ],
   "source": [
    "list_=[12,23,45,67,32]\n",
    "max_=0\n",
    "for i in range(len(list_)):\n",
    "    if max_<list_[i]:\n",
    "        max_=list_[i]\n",
    "print(max_)"
   ]
  },
  {
   "cell_type": "code",
   "execution_count": 36,
   "id": "332eaeff-8470-4a81-b4fc-b6f19d5621be",
   "metadata": {},
   "outputs": [
    {
     "name": "stdout",
     "output_type": "stream",
     "text": [
      "6\n"
     ]
    }
   ],
   "source": [
    "list_=[10,23,45,67,32,6]\n",
    "min_=1000\n",
    "for i in range(len(list_)):\n",
    "    if min_ >list_[i]:\n",
    "       min_=list_[i]\n",
    "print(min_)"
   ]
  },
  {
   "cell_type": "code",
   "execution_count": 60,
   "id": "e23ecb43-71a3-4ca8-bfe0-ee1ddd1f3ac0",
   "metadata": {},
   "outputs": [],
   "source": [
    "list_=[1,2,5,6,12,13]\n",
    "target=13"
   ]
  },
  {
   "cell_type": "code",
   "execution_count": 62,
   "id": "dcdfbb14-b341-40e6-8d8e-930e4bfa3d17",
   "metadata": {},
   "outputs": [
    {
     "name": "stdout",
     "output_type": "stream",
     "text": [
      "13\n"
     ]
    }
   ],
   "source": [
    "for i in range(len(list_)):\n",
    "    if list_[i]==target:\n",
    "        \n",
    "       print(list_[i])"
   ]
  },
  {
   "cell_type": "raw",
   "id": "c7603c55-63f4-4ea8-be7c-cfd32ddf9025",
   "metadata": {},
   "source": [
    "low=0\n",
    "high=len(lent_)-1\n",
    "mid=(low+high)//2\n"
   ]
  },
  {
   "cell_type": "code",
   "execution_count": 3,
   "id": "f5c73162-471e-4e4c-a8a1-89290f989b1e",
   "metadata": {},
   "outputs": [],
   "source": [
    "def binary_search(list_,target):\n",
    "    low=0\n",
    "    high=len(list_)-1\n",
    "    while low<=high:\n",
    "     mid=(low+high)//2\n",
    "     if list_[mid]==target:\n",
    "         return list_[mid]\n",
    "     elif list_[mid]<target:\n",
    "         low=mid+1\n",
    "     else:\n",
    "         high=mid-1\n",
    "    return-1\n",
    "list_=[1,2,5,6,12,13]\n",
    "target=12"
   ]
  },
  {
   "cell_type": "code",
   "execution_count": 4,
   "id": "0c727b05-3d79-4295-9e26-37258ba371bb",
   "metadata": {},
   "outputs": [
    {
     "name": "stdout",
     "output_type": "stream",
     "text": [
      "yes target value is present in the list\n"
     ]
    }
   ],
   "source": [
    "res=binary_search(list_,target)\n",
    "if res!=-1:\n",
    "    print('yes target value is present in the list')\n",
    "else:\n",
    "    print('not target value is present in the list')"
   ]
  },
  {
   "cell_type": "code",
   "execution_count": null,
   "id": "4b058a4b-dc17-4c1c-b682-85a11421c3cb",
   "metadata": {},
   "outputs": [],
   "source": []
  }
 ],
 "metadata": {
  "kernelspec": {
   "display_name": "Python 3 (ipykernel)",
   "language": "python",
   "name": "python3"
  },
  "language_info": {
   "codemirror_mode": {
    "name": "ipython",
    "version": 3
   },
   "file_extension": ".py",
   "mimetype": "text/x-python",
   "name": "python",
   "nbconvert_exporter": "python",
   "pygments_lexer": "ipython3",
   "version": "3.12.7"
  }
 },
 "nbformat": 4,
 "nbformat_minor": 5
}
